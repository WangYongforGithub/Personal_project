{
 "cells": [
  {
   "cell_type": "code",
   "execution_count": null,
   "id": "2ee50317",
   "metadata": {},
   "outputs": [],
   "source": [
    "import pandas as pd\n",
    "import numpy as np\n",
    "import matplotlib.pyplot as plt\n",
    "from collections import Counter\n",
    "import seaborn as sns\n",
    "from sklearn.model_selection import train_test_split\n",
    "\n",
    "\n",
    "%config InlineBackend.figure_format = 'svg'\n",
    "\n",
    "plt.rcParams['font.sans-serif'] = ['Kaiti']\n",
    "plt.rcParams['axes.unicode_minus'] = False"
   ]
  },
  {
   "cell_type": "markdown",
   "id": "446fc590",
   "metadata": {},
   "source": [
    "# 文本类型分类"
   ]
  },
  {
   "cell_type": "code",
   "execution_count": null,
   "id": "f65338d4",
   "metadata": {},
   "outputs": [],
   "source": [
    "df_technology = pd.read_csv(r'technology_news.csv', encoding='utf-8')\n",
    "df_technology = df_technology.dropna()\n",
    "\n",
    "df_car = pd.read_csv(r'car_news.csv', encoding='utf-8')\n",
    "df_car = df_car.dropna()\n",
    "\n",
    "df_entertainment = pd.read_csv(r'entertainment_news.csv', encoding='utf-8')\n",
    "df_entertainment = df_entertainment.dropna()\n",
    "\n",
    "df_military = pd.read_csv(r'military_news.csv', encoding='utf-8')\n",
    "df_military = df_military.dropna()\n",
    "\n",
    "df_sports = pd.read_csv(r'sports_news.csv', encoding='utf-8')\n",
    "df_sports = df_sports.dropna()"
   ]
  },
  {
   "cell_type": "code",
   "execution_count": null,
   "id": "a6e5b01e",
   "metadata": {},
   "outputs": [],
   "source": [
    "# 导入分词库\n",
    "import jieba"
   ]
  },
  {
   "cell_type": "code",
   "execution_count": null,
   "id": "00575023",
   "metadata": {},
   "outputs": [],
   "source": [
    "jieba.lcut('今天天气真不错', cut_all=True)   #　cut_all=True: 全模式，有可能的全部分出"
   ]
  },
  {
   "cell_type": "code",
   "execution_count": null,
   "id": "4216b119",
   "metadata": {},
   "outputs": [],
   "source": [
    "jieba.lcut('今天天气真不错')  # 精确模式"
   ]
  },
  {
   "cell_type": "code",
   "execution_count": null,
   "id": "f149a011",
   "metadata": {},
   "outputs": [],
   "source": [
    "a = jieba.lcut('今天天气真不错')  # 精确模式"
   ]
  },
  {
   "cell_type": "code",
   "execution_count": null,
   "id": "c68461cd",
   "metadata": {},
   "outputs": [],
   "source": [
    "[' '.join(a)]"
   ]
  },
  {
   "cell_type": "code",
   "execution_count": null,
   "id": "350d6095",
   "metadata": {},
   "outputs": [],
   "source": [
    "#  jieba.load_userdict('../resources/文档/data/中文停用词库.txt') # 导入停词库，里面的词就不会分开"
   ]
  },
  {
   "cell_type": "code",
   "execution_count": null,
   "id": "bc6933a6",
   "metadata": {},
   "outputs": [],
   "source": [
    "# 把dataframe中的字段content分词"
   ]
  },
  {
   "cell_type": "code",
   "execution_count": null,
   "id": "46a57846",
   "metadata": {},
   "outputs": [],
   "source": [
    "df_entertainment.content.apply(lambda x: ' '.join(jieba.lcut(x)))"
   ]
  },
  {
   "cell_type": "code",
   "execution_count": null,
   "id": "3e7faff9",
   "metadata": {},
   "outputs": [],
   "source": []
  },
  {
   "cell_type": "code",
   "execution_count": null,
   "id": "4e10b57b",
   "metadata": {},
   "outputs": [],
   "source": [
    "# 将数据保存成列表形式\n",
    "car = df_car.content.tolist()\n",
    "entertainment = df_entertainment.content.tolist()\n",
    "sports = df_sports.content.tolist()\n",
    "technology = df_technology.content.tolist()\n",
    "military = df_military.content.tolist()"
   ]
  },
  {
   "cell_type": "code",
   "execution_count": null,
   "id": "548b10f3",
   "metadata": {},
   "outputs": [],
   "source": [
    "datas = ['car', 'entertainment', 'sports', 'technology', 'military']  \n",
    "samples = []\n",
    "for data in datas:\n",
    "    for x in eval(data):\n",
    "       \n",
    "        str_ = jieba.lcut(x) # 分词\n",
    "        str_ = filter(lambda x:len(x)>1,str_) # 过滤字符串长度小于1的字符串。\n",
    "        samples.append((\" \".join(str_), data)) # 整合+标签data"
   ]
  },
  {
   "cell_type": "code",
   "execution_count": null,
   "id": "fe2b5b16",
   "metadata": {},
   "outputs": [],
   "source": [
    "# 将数据打乱(非必要)\n",
    "import random\n",
    "\n",
    "random.shuffle(samples)"
   ]
  },
  {
   "cell_type": "code",
   "execution_count": null,
   "id": "3be5cc88",
   "metadata": {},
   "outputs": [],
   "source": [
    "samples"
   ]
  },
  {
   "cell_type": "code",
   "execution_count": null,
   "id": "5306a3e1",
   "metadata": {},
   "outputs": [],
   "source": [
    "X, y = zip(*samples)  # 将samples解包，分别给X,y"
   ]
  },
  {
   "cell_type": "code",
   "execution_count": null,
   "id": "c4298be9",
   "metadata": {},
   "outputs": [],
   "source": [
    "# 划分数据集\n",
    "from sklearn.model_selection import train_test_split"
   ]
  },
  {
   "cell_type": "code",
   "execution_count": null,
   "id": "88611c5a",
   "metadata": {},
   "outputs": [],
   "source": [
    "x_train, x_test, y_train, y_test = train_test_split(X,y, test_size=0.2)"
   ]
  },
  {
   "cell_type": "code",
   "execution_count": null,
   "id": "f5070e20",
   "metadata": {},
   "outputs": [],
   "source": [
    "# 词频特征向量\n",
    "\n",
    "from sklearn.feature_extraction.text import CountVectorizer     # 词频矩阵"
   ]
  },
  {
   "cell_type": "code",
   "execution_count": null,
   "id": "a46ae4e5",
   "metadata": {},
   "outputs": [],
   "source": [
    "# 停用词表\n",
    "stopwords=pd.read_csv(r'stopwords.txt',index_col=False,quoting=3,sep='\\t',names=['stopword'],encoding='utf-8')\n",
    "stopwords=stopwords['stopword'].values.tolist()"
   ]
  },
  {
   "cell_type": "code",
   "execution_count": null,
   "id": "ca494cd1",
   "metadata": {},
   "outputs": [],
   "source": [
    "# 实例化, 构建词袋，特征数6000个，去掉了停用词\n",
    "vec = CountVectorizer(stop_words=stopwords,).fit(x_train)   #  max_features=6000: 默认全部\n"
   ]
  },
  {
   "cell_type": "code",
   "execution_count": null,
   "id": "106d22b6",
   "metadata": {},
   "outputs": [],
   "source": [
    "x_train_ = vec.transform(x_train)\n",
    "x_test_ = vec.transform(x_test)"
   ]
  },
  {
   "cell_type": "code",
   "execution_count": null,
   "id": "2a51f488",
   "metadata": {},
   "outputs": [],
   "source": [
    "x_train_"
   ]
  },
  {
   "cell_type": "code",
   "execution_count": null,
   "id": "d8947e04",
   "metadata": {},
   "outputs": [],
   "source": [
    "# 朴素贝叶斯,不同的用法不一样\n",
    "from sklearn.naive_bayes import MultinomialNB   # 多项式\n",
    "from sklearn.naive_bayes import BernoulliNB     # 伯努利\n",
    "from sklearn.naive_bayes import GaussianNB      # 高斯\n",
    "from sklearn.naive_bayes import ComplementNB    # 补集"
   ]
  },
  {
   "cell_type": "code",
   "execution_count": null,
   "id": "e7e42ad6",
   "metadata": {},
   "outputs": [],
   "source": [
    "# 训练\n",
    "nb = MultinomialNB().fit(x_train_, y_train)"
   ]
  },
  {
   "cell_type": "code",
   "execution_count": null,
   "id": "60dc9b65",
   "metadata": {},
   "outputs": [],
   "source": [
    "nb.score(x_train_, y_train)"
   ]
  },
  {
   "cell_type": "code",
   "execution_count": null,
   "id": "c520c089",
   "metadata": {},
   "outputs": [],
   "source": [
    "nb.score(x_test_, y_test)"
   ]
  },
  {
   "cell_type": "code",
   "execution_count": null,
   "id": "10aa0f4c",
   "metadata": {},
   "outputs": [],
   "source": []
  },
  {
   "cell_type": "code",
   "execution_count": null,
   "id": "4af123c9",
   "metadata": {},
   "outputs": [],
   "source": [
    "# 测试预测结果"
   ]
  },
  {
   "cell_type": "code",
   "execution_count": null,
   "id": "d7b8bee5",
   "metadata": {},
   "outputs": [],
   "source": [
    "\n",
    "s = '特斯拉降价了，真烦人'\n",
    "a = [' '.join(jieba.lcut(s))]"
   ]
  },
  {
   "cell_type": "code",
   "execution_count": null,
   "id": "9a76d54d",
   "metadata": {},
   "outputs": [],
   "source": [
    "a_ = vec.transform(a)"
   ]
  },
  {
   "cell_type": "code",
   "execution_count": null,
   "id": "2225ef3c",
   "metadata": {},
   "outputs": [],
   "source": [
    "nb.predict(a_)"
   ]
  },
  {
   "cell_type": "code",
   "execution_count": null,
   "id": "70128e91",
   "metadata": {},
   "outputs": [],
   "source": []
  },
  {
   "cell_type": "code",
   "execution_count": null,
   "id": "fa6440a4",
   "metadata": {},
   "outputs": [],
   "source": [
    "# 使用TF-IDF\n",
    "from sklearn.feature_extraction.text import TfidfVectorizer"
   ]
  },
  {
   "cell_type": "code",
   "execution_count": null,
   "id": "02ec206c",
   "metadata": {},
   "outputs": [],
   "source": [
    "tf_idf = TfidfVectorizer(stop_words=stopwords).fit(x_train)"
   ]
  },
  {
   "cell_type": "code",
   "execution_count": null,
   "id": "2952cc0f",
   "metadata": {},
   "outputs": [],
   "source": [
    "x_train_tf = tf_idf.transform(x_train)\n",
    "x_test_tf = tf_idf.transform(x_test)"
   ]
  },
  {
   "cell_type": "code",
   "execution_count": null,
   "id": "f02b9a1d",
   "metadata": {},
   "outputs": [],
   "source": [
    "nb_tf = MultinomialNB().fit(x_train_tf, y_train)"
   ]
  },
  {
   "cell_type": "code",
   "execution_count": null,
   "id": "98a5b277",
   "metadata": {},
   "outputs": [],
   "source": []
  },
  {
   "cell_type": "code",
   "execution_count": null,
   "id": "79de3f25",
   "metadata": {},
   "outputs": [],
   "source": [
    "nb_tf.score(x_train_tf, y_train)"
   ]
  },
  {
   "cell_type": "code",
   "execution_count": null,
   "id": "1dffba89",
   "metadata": {},
   "outputs": [],
   "source": [
    "nb_tf.score(x_test_tf, y_test)"
   ]
  },
  {
   "cell_type": "code",
   "execution_count": null,
   "id": "cd3781ed",
   "metadata": {},
   "outputs": [],
   "source": []
  },
  {
   "cell_type": "code",
   "execution_count": null,
   "id": "af18d332",
   "metadata": {},
   "outputs": [],
   "source": [
    "# 预测结果\n",
    "nb_tf.predict(x_test_tf)"
   ]
  },
  {
   "cell_type": "code",
   "execution_count": null,
   "id": "20713ba0",
   "metadata": {},
   "outputs": [],
   "source": []
  },
  {
   "cell_type": "code",
   "execution_count": null,
   "id": "4dba1bb3",
   "metadata": {},
   "outputs": [],
   "source": [
    "# 返回预测结果落在那个特征的可能性\n",
    "nb_tf.predict_proba(x_test_tf)"
   ]
  },
  {
   "cell_type": "code",
   "execution_count": null,
   "id": "a9720da4",
   "metadata": {},
   "outputs": [],
   "source": []
  }
 ],
 "metadata": {
  "kernelspec": {
   "display_name": "Python 3",
   "language": "python",
   "name": "python3"
  },
  "language_info": {
   "codemirror_mode": {
    "name": "ipython",
    "version": 3
   },
   "file_extension": ".py",
   "mimetype": "text/x-python",
   "name": "python",
   "nbconvert_exporter": "python",
   "pygments_lexer": "ipython3",
   "version": "3.8.8"
  },
  "toc": {
   "base_numbering": 1,
   "nav_menu": {},
   "number_sections": true,
   "sideBar": true,
   "skip_h1_title": false,
   "title_cell": "Table of Contents",
   "title_sidebar": "Contents",
   "toc_cell": false,
   "toc_position": {},
   "toc_section_display": true,
   "toc_window_display": false
  }
 },
 "nbformat": 4,
 "nbformat_minor": 5
}
