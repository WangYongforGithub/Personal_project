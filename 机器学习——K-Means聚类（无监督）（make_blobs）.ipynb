{
 "cells": [
  {
   "cell_type": "markdown",
   "id": "08608380",
   "metadata": {},
   "source": [
    "# K-Means聚类"
   ]
  },
  {
   "cell_type": "code",
   "execution_count": null,
   "id": "06c69441",
   "metadata": {},
   "outputs": [],
   "source": [
    "import pandas as pd\n",
    "import numpy as np\n",
    "import matplotlib.pyplot as plt\n",
    "from collections import Counter\n",
    "from sklearn.datasets import load_boston\n",
    "from sklearn.model_selection import train_test_split\n",
    "\n",
    "\n",
    "%config InlineBackend.figure_format = 'svg'\n",
    "\n",
    "plt.rcParams['font.sans-serif'] = ['Kaiti']\n",
    "plt.rcParams['axes.unicode_minus'] = False"
   ]
  },
  {
   "cell_type": "code",
   "execution_count": null,
   "id": "f6a4ad17",
   "metadata": {},
   "outputs": [],
   "source": [
    "from sklearn.datasets import make_blobs"
   ]
  },
  {
   "cell_type": "code",
   "execution_count": null,
   "id": "2ea549f3",
   "metadata": {
    "code_folding": []
   },
   "outputs": [],
   "source": [
    "# 生成数据\n",
    "x, y = make_blobs(\n",
    "    n_samples=200,   # 生成样本数\n",
    "    n_features=2,    # 特征数 \n",
    "    centers=4,       # 生成几个簇\n",
    "    cluster_std=0.8,    # 每一个簇标准差，离散程度\n",
    "    random_state=100)"
   ]
  },
  {
   "cell_type": "code",
   "execution_count": null,
   "id": "d8aed0a4",
   "metadata": {},
   "outputs": [],
   "source": [
    "x.shape, y.shape"
   ]
  },
  {
   "cell_type": "markdown",
   "id": "50a60215",
   "metadata": {},
   "source": [
    "# 模型测试"
   ]
  },
  {
   "cell_type": "code",
   "execution_count": null,
   "id": "be7f7c27",
   "metadata": {},
   "outputs": [],
   "source": [
    "# 调用相关包\n",
    "\n",
    "from sklearn.cluster import KMeans"
   ]
  },
  {
   "cell_type": "code",
   "execution_count": null,
   "id": "e31ede8c",
   "metadata": {},
   "outputs": [],
   "source": [
    "# 散点图\n",
    "plt.scatter(x[:,0], x[:,1], s=3)"
   ]
  },
  {
   "cell_type": "code",
   "execution_count": null,
   "id": "b3b807ad",
   "metadata": {},
   "outputs": [],
   "source": [
    "cluster = KMeans(\n",
    "    n_clusters=4,   #　簇的个数，有效值从2开始\n",
    "    max_iter=300,   # 最大迭代次数，循环找到最合适的质心\n",
    "    tol=0.0001,    # 收敛域\n",
    ").fit(x)\n",
    "\n",
    "cluster.n_iter_"
   ]
  },
  {
   "cell_type": "code",
   "execution_count": null,
   "id": "6fc66f22",
   "metadata": {},
   "outputs": [],
   "source": [
    "cluster.predict(x)   # 预测新样本，分在哪一组"
   ]
  },
  {
   "cell_type": "code",
   "execution_count": 18,
   "id": "c19c1145",
   "metadata": {},
   "outputs": [
    {
     "data": {
      "text/plain": [
       "array([[-8.35664123, -5.01540837],\n",
       "       [-1.30769086,  6.77029426],\n",
       "       [ 0.60666362, -4.78689254],\n",
       "       [-9.97420096, -8.66525573],\n",
       "       [ 3.7499827 ,  6.64269551]])"
      ]
     },
     "execution_count": 18,
     "metadata": {},
     "output_type": "execute_result"
    }
   ],
   "source": [
    "Zhixin = cluster.cluster_centers_   # 质心\n",
    "Zhixin"
   ]
  },
  {
   "cell_type": "code",
   "execution_count": null,
   "id": "b0a35d0c",
   "metadata": {},
   "outputs": [],
   "source": [
    "plt.scatter(x[:,0], x[:,1],s=2)\n",
    "plt.scatter(Zhixin[:,0], Zhixin[:,1],marker='x',)"
   ]
  },
  {
   "cell_type": "code",
   "execution_count": null,
   "id": "409ea161",
   "metadata": {},
   "outputs": [],
   "source": [
    "# 轮廓系数\n",
    "from sklearn.metrics import silhouette_score, silhouette_samples\n",
    "# silhouette_score: 总体的轮廓系数\n",
    "# silhouette_samples: 每一个样本的轮廓系数"
   ]
  },
  {
   "cell_type": "code",
   "execution_count": null,
   "id": "828ade42",
   "metadata": {},
   "outputs": [],
   "source": [
    "silhouette_samples(x, cluster.predict(x))"
   ]
  },
  {
   "cell_type": "code",
   "execution_count": null,
   "id": "04504d19",
   "metadata": {
    "scrolled": true
   },
   "outputs": [],
   "source": [
    "silhouette_score(x, cluster.predict(x))   # 轮廓系数"
   ]
  },
  {
   "cell_type": "code",
   "execution_count": null,
   "id": "688373ed",
   "metadata": {},
   "outputs": [],
   "source": []
  },
  {
   "cell_type": "code",
   "execution_count": null,
   "id": "5423f6e2",
   "metadata": {
    "code_folding": [
     0
    ]
   },
   "outputs": [],
   "source": [
    "# 找出2-10个簇，哪一个最好\n",
    "# scores = []\n",
    "# x, y = make_blobs(\n",
    "#         n_samples=200,   # 生成样本数\n",
    "#         n_features=2,    # 特征数 \n",
    "#         centers=4,       # 生成标签数\n",
    "#         cluster_std=0.8,    # 每一个簇标准差，离散程度\n",
    "#         random_state=100)\n",
    "# for i in range(2,11):\n",
    "#     # 生成数据\n",
    "#     cluster = KMeans(\n",
    "#         n_clusters=i,   #　簇的个数\n",
    "#         max_iter=300,   # 最大迭代次数，循环找到最合适的质心\n",
    "#         tol=0.0001,    # 收敛域\n",
    "#         ).fit(x)\n",
    "    \n",
    "#     scores.append(silhouette_score(x, cluster.predict(x)))   # 轮廓系数\n",
    "    \n",
    "    \n",
    "# plt.plot(range(2,11), scores, 'orange')"
   ]
  },
  {
   "cell_type": "code",
   "execution_count": null,
   "id": "c37bd087",
   "metadata": {},
   "outputs": [],
   "source": []
  },
  {
   "cell_type": "code",
   "execution_count": null,
   "id": "e16c7383",
   "metadata": {},
   "outputs": [],
   "source": [
    "x, y = make_blobs(\n",
    "    n_samples=200,   # 生成样本数\n",
    "    n_features=2,    # 特征数 \n",
    "    centers=4,       # 生成几个簇\n",
    "    cluster_std=2,    # 每一个簇标准差，离散程度\n",
    "    random_state=100)\n",
    "\n",
    "# 画出质心变换\n",
    "cluster = KMeans(\n",
    "    n_clusters=5,   #　簇的个数，有效值从2开始\n",
    "    max_iter=300,   # 最大迭代次数，循环找到最合适的质心\n",
    "    tol=0.0001,    # 收敛域\n",
    ").fit(x)\n",
    "cluster.n_iter_"
   ]
  },
  {
   "cell_type": "code",
   "execution_count": null,
   "id": "9ca10d03",
   "metadata": {},
   "outputs": [],
   "source": [
    "plt.scatter(x[:,0], x[:,1],s=2)\n",
    "plt.scatter(cluster.cluster_centers_[:,0], cluster.cluster_centers_[:,1],marker='x')\n",
    "for i in range(1,cluster.n_iter_):\n",
    "    cluster = KMeans(\n",
    "        n_clusters=5,   #　簇的个数，有效值从2开始\n",
    "        max_iter=i,   # 最大迭代次数，循环找到最合适的质心\n",
    "        tol=0.0001,    # 收敛域\n",
    "        ).fit(x)\n",
    "    plt.scatter(cluster.cluster_centers_[:,0], cluster.cluster_centers_[:,1])       \n",
    "    "
   ]
  },
  {
   "cell_type": "code",
   "execution_count": null,
   "id": "8bc78c99",
   "metadata": {},
   "outputs": [],
   "source": []
  }
 ],
 "metadata": {
  "kernelspec": {
   "display_name": "Python 3",
   "language": "python",
   "name": "python3"
  },
  "language_info": {
   "codemirror_mode": {
    "name": "ipython",
    "version": 3
   },
   "file_extension": ".py",
   "mimetype": "text/x-python",
   "name": "python",
   "nbconvert_exporter": "python",
   "pygments_lexer": "ipython3",
   "version": "3.8.8"
  },
  "toc": {
   "base_numbering": 1,
   "nav_menu": {},
   "number_sections": true,
   "sideBar": true,
   "skip_h1_title": false,
   "title_cell": "Table of Contents",
   "title_sidebar": "Contents",
   "toc_cell": false,
   "toc_position": {
    "height": "calc(100% - 180px)",
    "left": "10px",
    "top": "150px",
    "width": "197.76px"
   },
   "toc_section_display": true,
   "toc_window_display": false
  }
 },
 "nbformat": 4,
 "nbformat_minor": 5
}
