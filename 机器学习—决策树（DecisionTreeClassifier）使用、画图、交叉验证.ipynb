{
 "cells": [
  {
   "cell_type": "code",
   "execution_count": null,
   "id": "b1d5bee4",
   "metadata": {},
   "outputs": [],
   "source": [
    "import pandas as pd\n",
    "import numpy as np\n",
    "import matplotlib.pyplot as plt\n",
    "from collections import Counter\n",
    "\n",
    "from sklearn.model_selection import train_test_split\n",
    "\n",
    "\n",
    "%config InlineBackend.figure_format = 'svg'\n",
    "\n",
    "plt.rcParams['font.sans-serif'] = ['Kaiti']\n",
    "plt.rcParams['axes.unicode_minus'] = False\n"
   ]
  },
  {
   "cell_type": "code",
   "execution_count": null,
   "id": "f8692eb3",
   "metadata": {},
   "outputs": [],
   "source": []
  },
  {
   "cell_type": "markdown",
   "id": "d2a64836",
   "metadata": {},
   "source": [
    "# 决策树——Sklearn  \n",
    "\n",
    "### 优点：  \n",
    "####        1、数据的包容性：可以包容缺失值 　　　 2、保留数据原有量纲  \n",
    "####        2、可以多分类  \n",
    "####        3、非线性可分数据集  \n",
    "####        4、可视化  \n",
    "####        5、异常值不敏感  \n",
    "\n",
    "### 缺点：  \n",
    "####        过拟合"
   ]
  },
  {
   "cell_type": "code",
   "execution_count": null,
   "id": "3e2a8afd",
   "metadata": {},
   "outputs": [],
   "source": [
    "from sklearn.tree import DecisionTreeClassifier"
   ]
  },
  {
   "cell_type": "code",
   "execution_count": null,
   "id": "5b19ee29",
   "metadata": {},
   "outputs": [],
   "source": [
    "\"\"\"\n",
    "DT = DecisionTreeClassifier(\n",
    "    criterion='gini',   # entropy、gini: 两种选择\n",
    "    max_depth=None,     # 最大深度\n",
    "    min_samples_split=2,     #　预剪枝：剪枝前最小分割的样本数\n",
    "    min_samples_leaf=1,　   #  后剪枝：剪枝后节点的最小样本数\n",
    "    max_features=None,      # 最多可用特征数\n",
    "    max_leaf_nodes=None,     # 最多叶子节点的个数\n",
    "    min_impurity_decrease=0.0,    # 不纯度下降的最小域\n",
    "\n",
    ")\n",
    "\"\"\"\n"
   ]
  },
  {
   "cell_type": "code",
   "execution_count": null,
   "id": "728c0b82",
   "metadata": {},
   "outputs": [],
   "source": [
    "from sklearn.datasets import load_wine"
   ]
  },
  {
   "cell_type": "code",
   "execution_count": null,
   "id": "25029af1",
   "metadata": {},
   "outputs": [],
   "source": [
    "wine = load_wine()"
   ]
  },
  {
   "cell_type": "code",
   "execution_count": null,
   "id": "a054d3d6",
   "metadata": {},
   "outputs": [],
   "source": [
    "data = pd.DataFrame(data=wine.data, columns=wine.feature_names)\n",
    "data['target'] = wine.target\n",
    "y = wine.target\n"
   ]
  },
  {
   "cell_type": "code",
   "execution_count": null,
   "id": "dca64e96",
   "metadata": {},
   "outputs": [],
   "source": [
    "data.head()"
   ]
  },
  {
   "cell_type": "code",
   "execution_count": null,
   "id": "43e70cc3",
   "metadata": {},
   "outputs": [],
   "source": [
    "# 第一列与第二列的散点图\n",
    "\n",
    "for i in data.target.unique():\n",
    "    x_ = data[data.target == i]['alcohol']\n",
    "    y_ = data[data.target == i]['malic_acid']\n",
    "    plt.scatter(x_, y_)\n",
    "plt.show()"
   ]
  },
  {
   "cell_type": "code",
   "execution_count": null,
   "id": "4b955db6",
   "metadata": {},
   "outputs": [],
   "source": [
    "import seaborn as sns"
   ]
  },
  {
   "cell_type": "code",
   "execution_count": null,
   "id": "93d4fc09",
   "metadata": {},
   "outputs": [],
   "source": [
    "# sns.pairplot(data)   # 会自动把各维度的散点图画出来"
   ]
  },
  {
   "cell_type": "code",
   "execution_count": null,
   "id": "ce91b819",
   "metadata": {},
   "outputs": [],
   "source": [
    "# 画boxplot\n",
    "\n",
    "for col in data.columns[:-1]:\n",
    "    sns.boxplot(x = data.target, y = data[col])\n",
    "    plt.title(f'{col}')\n",
    "    plt.show()"
   ]
  },
  {
   "cell_type": "code",
   "execution_count": null,
   "id": "c9128eb6",
   "metadata": {},
   "outputs": [],
   "source": [
    "x_train, x_test, y_train, y_test = train_test_split(data.iloc[:,:-1], data.iloc[:,-1], test_size=0.3)\n"
   ]
  },
  {
   "cell_type": "code",
   "execution_count": null,
   "id": "25cadb7a",
   "metadata": {},
   "outputs": [],
   "source": [
    "DT = DecisionTreeClassifier().fit(x_train, y_train)"
   ]
  },
  {
   "cell_type": "code",
   "execution_count": null,
   "id": "2258342a",
   "metadata": {},
   "outputs": [],
   "source": [
    "DT.get_depth()   # 获取深度"
   ]
  },
  {
   "cell_type": "code",
   "execution_count": null,
   "id": "20e01c58",
   "metadata": {},
   "outputs": [],
   "source": [
    "DT.score(x_test, y_test)   # 测试集分数"
   ]
  },
  {
   "cell_type": "code",
   "execution_count": null,
   "id": "8a3c2e4a",
   "metadata": {},
   "outputs": [],
   "source": [
    "DT.score(x_train, y_train)   # 过拟合"
   ]
  },
  {
   "cell_type": "code",
   "execution_count": null,
   "id": "ecd30835",
   "metadata": {},
   "outputs": [],
   "source": [
    "# 画决策树的图\n",
    "import graphviz\n",
    "from sklearn import tree\n",
    "dot_data = tree.export_graphviz(DT\n",
    "                                ,out_file = None  # 导出文件\n",
    "                                ,feature_names= wine.feature_names   # 特征名\n",
    "                                ,class_names=wine.target_names        # 标签名\n",
    "                                ,filled=True    # 填充颜色\n",
    "                                ,rounded=True   # \n",
    "                                )\n",
    "graph = graphviz.Source(dot_data) \n",
    "graph"
   ]
  },
  {
   "cell_type": "code",
   "execution_count": null,
   "id": "ec6d9832",
   "metadata": {},
   "outputs": [],
   "source": [
    "test = []\n",
    "train = []\n",
    "for i in range(1,11):\n",
    "    DT = DecisionTreeClassifier(max_depth=i).fit(x_train, y_train)\n",
    "    test.append(DT.score(x_test, y_test))\n",
    "    train.append(DT.score(x_train, y_train))\n",
    "    \n",
    "plt.plot(range(1,11), test, label='测试集')\n",
    "plt.plot(range(1,11), train, label='训练集')\n",
    "plt.legend()\n",
    "plt.show()"
   ]
  },
  {
   "cell_type": "code",
   "execution_count": null,
   "id": "cb2cf817",
   "metadata": {},
   "outputs": [],
   "source": [
    "from sklearn.model_selection import cross_val_score  # 交叉验证"
   ]
  },
  {
   "cell_type": "code",
   "execution_count": null,
   "id": "733b6a8c",
   "metadata": {},
   "outputs": [],
   "source": [
    "DT = DecisionTreeClassifier(max_depth=3)"
   ]
  },
  {
   "cell_type": "code",
   "execution_count": null,
   "id": "8055e187",
   "metadata": {},
   "outputs": [],
   "source": [
    "cross_val_score(DT, wine.data, wine.target, cv=5)"
   ]
  },
  {
   "cell_type": "code",
   "execution_count": null,
   "id": "5c058a19",
   "metadata": {},
   "outputs": [],
   "source": [
    "\n",
    "cross = []\n",
    "for i in range(1,20):\n",
    "    DT = DecisionTreeClassifier(max_depth=i).fit(x_train, y_train)\n",
    "    cross.append(cross_val_score(DT, wine.data, wine.target, cv=5).mean())\n",
    "plt.plot(range(1,20), cross)\n",
    "# plt.legend()\n",
    "plt.show()"
   ]
  },
  {
   "cell_type": "markdown",
   "id": "2b41d092",
   "metadata": {},
   "source": [
    "# 网格搜索"
   ]
  },
  {
   "cell_type": "code",
   "execution_count": null,
   "id": "b1576f08",
   "metadata": {},
   "outputs": [],
   "source": [
    "from sklearn.model_selection import GridSearchCV"
   ]
  },
  {
   "cell_type": "code",
   "execution_count": 25,
   "id": "8ab90629",
   "metadata": {
    "scrolled": false
   },
   "outputs": [],
   "source": [
    "DT = DecisionTreeClassifier()\n",
    "\n",
    "param = {\n",
    "    'criterion': ['gini','entropy'],   # entropy、gini: 两种选择\n",
    "    'max_depth':  np.arange(1,20),     # 最大深度\n",
    "    'min_samples_split': np.arange(2,8),     #　预剪枝：剪枝前最小分割的样本数\n",
    "    \n",
    "    'min_impurity_decrease': np.linspace(0, 0.05,10),    # 不纯度下降的最小域\n",
    "}\n",
    "\n",
    "GS = GridSearchCV(DT, param, cv=5).fit(wine.data, wine.target)"
   ]
  },
  {
   "cell_type": "code",
   "execution_count": 27,
   "id": "ef03293f",
   "metadata": {},
   "outputs": [
    {
     "data": {
      "text/plain": [
       "0.9276190476190477"
      ]
     },
     "execution_count": 27,
     "metadata": {},
     "output_type": "execute_result"
    }
   ],
   "source": [
    "GS.best_score_"
   ]
  },
  {
   "cell_type": "code",
   "execution_count": 28,
   "id": "5284bd21",
   "metadata": {},
   "outputs": [
    {
     "data": {
      "text/plain": [
       "{'criterion': 'entropy',\n",
       " 'max_depth': 3,\n",
       " 'min_impurity_decrease': 0.05,\n",
       " 'min_samples_split': 2}"
      ]
     },
     "execution_count": 28,
     "metadata": {},
     "output_type": "execute_result"
    }
   ],
   "source": [
    "GS.best_params_   # 最优参数"
   ]
  },
  {
   "cell_type": "code",
   "execution_count": 29,
   "id": "90c911a9",
   "metadata": {},
   "outputs": [],
   "source": [
    "DT = GS.best_estimator_   # 把最好的参数传给DT,再构建模型"
   ]
  },
  {
   "cell_type": "code",
   "execution_count": 30,
   "id": "77c2f610",
   "metadata": {},
   "outputs": [
    {
     "data": {
      "text/plain": [
       "DecisionTreeClassifier(criterion='entropy', max_depth=3,\n",
       "                       min_impurity_decrease=0.05)"
      ]
     },
     "execution_count": 30,
     "metadata": {},
     "output_type": "execute_result"
    }
   ],
   "source": [
    "DT.fit(x_train, y_train)   # 训练"
   ]
  },
  {
   "cell_type": "code",
   "execution_count": 31,
   "id": "31fb6abf",
   "metadata": {},
   "outputs": [
    {
     "data": {
      "text/plain": [
       "0.9838709677419355"
      ]
     },
     "execution_count": 31,
     "metadata": {},
     "output_type": "execute_result"
    }
   ],
   "source": [
    "DT.score(x_train, y_train)   # 评分：训练集"
   ]
  },
  {
   "cell_type": "code",
   "execution_count": 32,
   "id": "02e7255c",
   "metadata": {},
   "outputs": [
    {
     "data": {
      "text/plain": [
       "0.8333333333333334"
      ]
     },
     "execution_count": 32,
     "metadata": {},
     "output_type": "execute_result"
    }
   ],
   "source": [
    "DT.score(x_test, y_test)　　　# 评分：测试集"
   ]
  },
  {
   "cell_type": "code",
   "execution_count": null,
   "id": "b81f209a",
   "metadata": {},
   "outputs": [],
   "source": []
  }
 ],
 "metadata": {
  "kernelspec": {
   "display_name": "Python 3",
   "language": "python",
   "name": "python3"
  },
  "language_info": {
   "codemirror_mode": {
    "name": "ipython",
    "version": 3
   },
   "file_extension": ".py",
   "mimetype": "text/x-python",
   "name": "python",
   "nbconvert_exporter": "python",
   "pygments_lexer": "ipython3",
   "version": "3.8.8"
  },
  "toc": {
   "base_numbering": 1,
   "nav_menu": {},
   "number_sections": true,
   "sideBar": true,
   "skip_h1_title": false,
   "title_cell": "Table of Contents",
   "title_sidebar": "Contents",
   "toc_cell": false,
   "toc_position": {},
   "toc_section_display": true,
   "toc_window_display": false
  }
 },
 "nbformat": 4,
 "nbformat_minor": 5
}
