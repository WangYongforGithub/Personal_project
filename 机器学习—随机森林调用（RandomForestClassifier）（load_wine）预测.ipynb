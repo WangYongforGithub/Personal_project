{
 "cells": [
  {
   "cell_type": "code",
   "execution_count": 3,
   "id": "4104f736",
   "metadata": {},
   "outputs": [],
   "source": [
    "import pandas as pd\n",
    "import numpy as np\n",
    "import matplotlib.pyplot as plt\n",
    "from collections import Counter\n",
    "import seaborn as sns\n",
    "from sklearn.model_selection import train_test_split\n",
    "\n",
    "\n",
    "%config InlineBackend.figure_format = 'svg'\n",
    "\n",
    "plt.rcParams['font.sans-serif'] = ['Kaiti']\n",
    "plt.rcParams['axes.unicode_minus'] = False\n"
   ]
  },
  {
   "cell_type": "code",
   "execution_count": 2,
   "id": "c2d29c56",
   "metadata": {},
   "outputs": [],
   "source": [
    "from sklearn.tree import DecisionTreeClassifier"
   ]
  },
  {
   "cell_type": "code",
   "execution_count": 11,
   "id": "256a7aca",
   "metadata": {},
   "outputs": [],
   "source": [
    "from sklearn.datasets import load_wine\n",
    "wine = load_wine()\n",
    "\n",
    "data = pd.DataFrame(data=wine.data, columns=wine.feature_names)\n",
    "data['target'] = wine.target\n",
    "y = wine.target\n",
    "\n",
    "x_train, x_test, y_train, y_test = train_test_split(data.iloc[:,:-1], data.iloc[:,-1], test_size=0.3)\n"
   ]
  },
  {
   "cell_type": "code",
   "execution_count": null,
   "id": "c3be8489",
   "metadata": {},
   "outputs": [],
   "source": []
  },
  {
   "cell_type": "markdown",
   "id": "9ddf370c",
   "metadata": {},
   "source": [
    "# 随机森林"
   ]
  },
  {
   "cell_type": "code",
   "execution_count": 4,
   "id": "3fc072cc",
   "metadata": {},
   "outputs": [],
   "source": [
    "from sklearn.ensemble import RandomForestClassifier"
   ]
  },
  {
   "cell_type": "code",
   "execution_count": 12,
   "id": "58991b68",
   "metadata": {},
   "outputs": [],
   "source": [
    "RF = RandomForestClassifier(\n",
    "    n_estimators=100,   # 树的个数\n",
    "    criterion='gini',  #  不纯度衡量\n",
    "    max_depth=None,   # 子树的深度\n",
    "    min_samples_split=2,   # 最小预剪枝：最小的分裂个数\n",
    "    min_samples_leaf=1,     # 后剪枝：子节点的最小个数\n",
    "    min_weight_fraction_leaf=0.0,\n",
    "    max_features='auto',    # 最大特征数   sqrt（m）：m表示总特征数\n",
    "    max_leaf_nodes=None,    # 最大叶子节点个数\n",
    "    min_impurity_decrease=0.0,   # 不纯度至少下降的幅度\n",
    "    min_impurity_split=None,\n",
    "    bootstrap=True,    # 是否有放回抽样\n",
    "    oob_score=False,   # out of bag：袋外分数\n",
    "    n_jobs=None,\n",
    "    max_samples=None,   # 最大样本数\n",
    ").fit(x_train, y_train)\n",
    "\n"
   ]
  },
  {
   "cell_type": "code",
   "execution_count": 13,
   "id": "e36cb375",
   "metadata": {},
   "outputs": [
    {
     "data": {
      "text/plain": [
       "0.9814814814814815"
      ]
     },
     "execution_count": 13,
     "metadata": {},
     "output_type": "execute_result"
    }
   ],
   "source": [
    "RF.score(x_test, y_test)"
   ]
  },
  {
   "cell_type": "code",
   "execution_count": 15,
   "id": "e05cb1f2",
   "metadata": {},
   "outputs": [
    {
     "data": {
      "text/plain": [
       "array([1, 1, 0, 1, 1, 1, 1, 0, 2, 1, 1, 1, 2, 2, 2, 1, 0, 1, 0, 0, 1, 2,\n",
       "       1, 0, 0, 1, 1, 1, 2, 1, 2, 2, 0, 1, 0, 2, 1, 1, 1, 1, 1, 0, 1, 0,\n",
       "       0, 1, 0, 0, 0, 2, 1, 0, 0, 0, 1, 1, 1, 0, 0, 0, 2, 1, 0, 2, 1, 2,\n",
       "       0, 1, 1, 0, 1, 1, 2, 2, 1, 0, 2, 0, 1, 1, 1, 0, 2, 2, 2, 0, 2, 2,\n",
       "       1, 1, 2, 1, 0, 0, 1, 1, 0, 1, 2, 0, 0, 0, 2, 0, 1, 0, 0, 0, 2, 0,\n",
       "       0, 1, 1, 2, 1, 0, 1, 2, 0, 2, 1, 2, 2, 2])"
      ]
     },
     "execution_count": 15,
     "metadata": {},
     "output_type": "execute_result"
    }
   ],
   "source": [
    "RF.predict(x_train)"
   ]
  },
  {
   "cell_type": "code",
   "execution_count": null,
   "id": "e379d9da",
   "metadata": {},
   "outputs": [],
   "source": []
  }
 ],
 "metadata": {
  "kernelspec": {
   "display_name": "Python 3",
   "language": "python",
   "name": "python3"
  },
  "language_info": {
   "codemirror_mode": {
    "name": "ipython",
    "version": 3
   },
   "file_extension": ".py",
   "mimetype": "text/x-python",
   "name": "python",
   "nbconvert_exporter": "python",
   "pygments_lexer": "ipython3",
   "version": "3.8.8"
  },
  "toc": {
   "base_numbering": 1,
   "nav_menu": {},
   "number_sections": true,
   "sideBar": true,
   "skip_h1_title": false,
   "title_cell": "Table of Contents",
   "title_sidebar": "Contents",
   "toc_cell": false,
   "toc_position": {},
   "toc_section_display": true,
   "toc_window_display": false
  }
 },
 "nbformat": 4,
 "nbformat_minor": 5
}
