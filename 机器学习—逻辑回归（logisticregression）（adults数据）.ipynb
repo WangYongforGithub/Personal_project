{
 "cells": [
  {
   "cell_type": "code",
   "execution_count": 1,
   "id": "c6c16a31",
   "metadata": {},
   "outputs": [],
   "source": [
    "import pandas as pd\n",
    "import numpy as np\n",
    "import matplotlib.pyplot as plt\n",
    "from collections import Counter\n",
    "\n",
    "from sklearn.model_selection import train_test_split\n",
    "\n",
    "\n",
    "%config InlineBackend.figure_format = 'svg'\n",
    "\n",
    "plt.rcParams['font.sans-serif'] = ['Kaiti']\n",
    "plt.rcParams['axes.unicode_minus'] = False\n",
    "\n"
   ]
  },
  {
   "cell_type": "code",
   "execution_count": null,
   "id": "e6935c89",
   "metadata": {},
   "outputs": [],
   "source": [
    "df = pd.read_csv('adults.txt')\n",
    "# df.info()  # 无空值\n"
   ]
  },
  {
   "cell_type": "code",
   "execution_count": 19,
   "id": "28fa5de9",
   "metadata": {},
   "outputs": [],
   "source": [
    "# 删除final_weight字段\n",
    "df.drop(labels='final_weight', axis=1, inplace=True)"
   ]
  },
  {
   "cell_type": "code",
   "execution_count": null,
   "id": "57674928",
   "metadata": {},
   "outputs": [],
   "source": [
    "# 查看所有字段\n",
    "df.columns"
   ]
  },
  {
   "cell_type": "code",
   "execution_count": 22,
   "id": "1a473e40",
   "metadata": {},
   "outputs": [],
   "source": [
    "# 处理性别，编码\n",
    "df['sex'] = df['sex'].apply(lambda x: 1 if x == 'Male' else 0)"
   ]
  },
  {
   "cell_type": "code",
   "execution_count": 24,
   "id": "980a9e93",
   "metadata": {},
   "outputs": [],
   "source": [
    "# one-hot编码\n",
    "\n",
    "workclass = pd.get_dummies(df['workclass'], prefix='workclass')\n",
    "\n",
    "education = pd.get_dummies(df.education, prefix='education')\n",
    "\n",
    "marital_status = pd.get_dummies(df.marital_status, prefix='marital_status')\n",
    "\n",
    "occupation = pd.get_dummies(df.occupation, prefix='occupation')\n",
    "\n",
    "relationship = pd.get_dummies(df.relationship, prefix='relationship')\n",
    "\n",
    "race = pd.get_dummies(df.race, prefix='race')\n",
    "\n",
    "native_country = pd.get_dummies(df.native_country, prefix='native_country')"
   ]
  },
  {
   "cell_type": "markdown",
   "id": "89ea3b03",
   "metadata": {},
   "source": [
    "# 上述代码可以简写\n",
    "one_hot = pd.get_dummies(df, columns=['workclass', 'education', 'marital_status', 'occupation', 'relationship', 'race', 'native_country'])"
   ]
  },
  {
   "cell_type": "code",
   "execution_count": 26,
   "id": "01dd54ba",
   "metadata": {},
   "outputs": [],
   "source": [
    "# 删除所有文本列\n",
    "df.drop(columns=['workclass', 'education', 'marital_status', 'occupation', 'relationship', 'race', 'native_country'], axis=1, inplace=True)"
   ]
  },
  {
   "cell_type": "code",
   "execution_count": 31,
   "id": "af269d69",
   "metadata": {},
   "outputs": [],
   "source": [
    "# 编码：<=50是0，>50是1\n",
    "df['salary'] = df.salary.apply(lambda x: 1 if x == '>50K' else 0)"
   ]
  },
  {
   "cell_type": "code",
   "execution_count": 33,
   "id": "4457f64f",
   "metadata": {},
   "outputs": [],
   "source": [
    "# 将salary单独取出\n",
    "salary = df['salary']"
   ]
  },
  {
   "cell_type": "code",
   "execution_count": 34,
   "id": "6cf8b8ed",
   "metadata": {},
   "outputs": [],
   "source": [
    "# 删除salary列\n",
    "df.drop(columns='salary', axis=1, inplace=True)"
   ]
  },
  {
   "cell_type": "code",
   "execution_count": 38,
   "id": "25b7ff4a",
   "metadata": {},
   "outputs": [],
   "source": [
    "# 将哑变量矩阵全部添加到df中\n",
    "for col in ['workclass','education','marital_status','occupation','relationship','race','native_country']:\n",
    "    df[eval(col).columns] = eval(col)"
   ]
  },
  {
   "cell_type": "code",
   "execution_count": 42,
   "id": "c310512c",
   "metadata": {},
   "outputs": [],
   "source": [
    "# 将salary添加到df中\n",
    "df['salary'] = salary"
   ]
  },
  {
   "cell_type": "code",
   "execution_count": 44,
   "id": "d0f378cc",
   "metadata": {},
   "outputs": [],
   "source": [
    "# 导入相关库\n",
    "from sklearn.preprocessing import StandardScaler\n",
    "from sklearn.model_selection import train_test_split"
   ]
  },
  {
   "cell_type": "code",
   "execution_count": 53,
   "id": "3490b37e",
   "metadata": {},
   "outputs": [],
   "source": [
    "x_train, x_test, y_train, y_test = train_test_split(df[df.columns[:-1]], df[df.columns[-1]], test_size=0.3)"
   ]
  },
  {
   "cell_type": "code",
   "execution_count": 56,
   "id": "872140d6",
   "metadata": {},
   "outputs": [],
   "source": [
    "# 标准化\n",
    "std = StandardScaler().fit(x_train)\n",
    "x_train_ = std.transform(x_train)\n",
    "x_test_ = std.transform(x_test)"
   ]
  },
  {
   "cell_type": "code",
   "execution_count": 57,
   "id": "1e683d8f",
   "metadata": {},
   "outputs": [],
   "source": [
    "# 导入逻辑回归库\n",
    "from sklearn.linear_model import LogisticRegression"
   ]
  },
  {
   "cell_type": "code",
   "execution_count": 58,
   "id": "46df0d0e",
   "metadata": {},
   "outputs": [],
   "source": [
    "# 训练模型\n",
    "lr = LogisticRegression().fit(x_train_, y_train)"
   ]
  },
  {
   "cell_type": "code",
   "execution_count": 59,
   "id": "779be44f",
   "metadata": {},
   "outputs": [
    {
     "data": {
      "text/plain": [
       "0.85499297999298"
      ]
     },
     "execution_count": 59,
     "metadata": {},
     "output_type": "execute_result"
    }
   ],
   "source": [
    "# 训练集预测打分\n",
    "lr.score(x_train_, y_train)"
   ]
  },
  {
   "cell_type": "code",
   "execution_count": 60,
   "id": "4dcbbbe1",
   "metadata": {},
   "outputs": [
    {
     "data": {
      "text/plain": [
       "0.8467601596888116"
      ]
     },
     "execution_count": 60,
     "metadata": {},
     "output_type": "execute_result"
    }
   ],
   "source": [
    "# 测试集预测打分\n",
    "lr.score(x_test_, y_test)"
   ]
  },
  {
   "cell_type": "code",
   "execution_count": 64,
   "id": "9c296757",
   "metadata": {},
   "outputs": [
    {
     "data": {
      "text/plain": [
       "array([1, 1, 1, ..., 1, 0, 0], dtype=int64)"
      ]
     },
     "execution_count": 64,
     "metadata": {},
     "output_type": "execute_result"
    }
   ],
   "source": [
    "# 预测\n",
    "lr.predict(x_train_)\n",
    "lr.predict(x_test_)"
   ]
  },
  {
   "cell_type": "code",
   "execution_count": null,
   "id": "b39f2716",
   "metadata": {},
   "outputs": [],
   "source": []
  }
 ],
 "metadata": {
  "kernelspec": {
   "display_name": "Python 3",
   "language": "python",
   "name": "python3"
  },
  "language_info": {
   "codemirror_mode": {
    "name": "ipython",
    "version": 3
   },
   "file_extension": ".py",
   "mimetype": "text/x-python",
   "name": "python",
   "nbconvert_exporter": "python",
   "pygments_lexer": "ipython3",
   "version": "3.8.8"
  },
  "toc": {
   "base_numbering": 1,
   "nav_menu": {},
   "number_sections": true,
   "sideBar": true,
   "skip_h1_title": false,
   "title_cell": "Table of Contents",
   "title_sidebar": "Contents",
   "toc_cell": false,
   "toc_position": {},
   "toc_section_display": true,
   "toc_window_display": false
  }
 },
 "nbformat": 4,
 "nbformat_minor": 5
}
